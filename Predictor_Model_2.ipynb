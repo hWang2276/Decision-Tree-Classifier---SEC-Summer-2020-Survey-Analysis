{
  "nbformat": 4,
  "nbformat_minor": 0,
  "metadata": {
    "colab": {
      "name": "Predictor Model 2.ipynb",
      "provenance": []
    },
    "kernelspec": {
      "name": "python3",
      "display_name": "Python 3"
    }
  },
  "cells": [
    {
      "cell_type": "markdown",
      "metadata": {
        "id": "sXNUiFIanXy4",
        "colab_type": "text"
      },
      "source": [
        "**Machine Learning Decision Tree Classifier Model 2**\n",
        "\n",
        "This will predict how much a person will pay based on Age, Gender, Where they are from, Where they are current living, whether they go to concerts, and how far they travel for a concert using Decision Tree Classifer Machine Learning\n",
        "\n",
        "**WARNING: In order to run code, must place 'Music Survey Pay 1.csv' file into the files (click on folder button left side of screen)** Excel file should in same Google Shared Drive folder availible for download"
      ]
    },
    {
      "cell_type": "markdown",
      "metadata": {
        "id": "3VjYwWYnns68",
        "colab_type": "text"
      },
      "source": [
        "***These values were changed to int in excel itself, due to variety of locations that LabelEncoder cannot process easily**\n",
        "\n",
        "**From (Where they are from) || Current (Where they are currently)**\n",
        "\n",
        "0 : Texas\n",
        "\n",
        "1 : US outside TX\n",
        "\n",
        "2 : Former USSR\n",
        "\n",
        "3 : Latin America\n",
        "\n",
        "4 : Asia\n",
        "\n",
        "5 : W. Europe/Canada\n",
        "\n",
        "6 : Middle East"
      ]
    },
    {
      "cell_type": "markdown",
      "metadata": {
        "id": "siTmka6NoOww",
        "colab_type": "text"
      },
      "source": [
        "***(A) Load in data from CSV file and organize into inputs and target***"
      ]
    },
    {
      "cell_type": "code",
      "metadata": {
        "id": "uCl5lerzXlj_",
        "colab_type": "code",
        "colab": {}
      },
      "source": [
        "#Import Python pandas and read in the CSV file\n",
        "import pandas as pd\n",
        "df = pd.read_csv('Music Survey Pay 1.csv')\n",
        "#Print df to check\n",
        "#df.fillna(df.mean(), inplace=True) #Not Necessary since later fillna\n",
        "df.head()"
      ],
      "execution_count": null,
      "outputs": []
    },
    {
      "cell_type": "code",
      "metadata": {
        "id": "31rVU61ZXsIX",
        "colab_type": "code",
        "colab": {}
      },
      "source": [
        "#Set inputs and target\n",
        "#For input keep all columns except for cost\n",
        "inputs = df.drop('How much do you typically pay? Please include airfare cost, hotel, taxi, food, etc.', axis='columns')\n",
        "#Assign target to 'How much...pay'\n",
        "target = df['How much do you typically pay? Please include airfare cost, hotel, taxi, food, etc.']\n",
        "#Print inputs and target to check\n",
        "print('Inputs: \\n', inputs)\n",
        "print('Target: \\n', target)"
      ],
      "execution_count": null,
      "outputs": []
    },
    {
      "cell_type": "markdown",
      "metadata": {
        "id": "iQk_6BVVoVqC",
        "colab_type": "text"
      },
      "source": [
        "***(B) Use LabelEncoder from sklearn preprocessing to convert variables into a integer the classifier can process***"
      ]
    },
    {
      "cell_type": "code",
      "metadata": {
        "id": "S1mPwKMLYQiw",
        "colab_type": "code",
        "colab": {}
      },
      "source": [
        "#Import LabelEncoder from sklearn\n",
        "#LabelEncoder will convert various categories in there current form to integers\n",
        "from sklearn.preprocessing import LabelEncoder\n",
        "le_age = LabelEncoder()\n",
        "le_sex = LabelEncoder()\n",
        "le_goto = LabelEncoder()\n",
        "le_far = LabelEncoder()"
      ],
      "execution_count": null,
      "outputs": []
    },
    {
      "cell_type": "code",
      "metadata": {
        "id": "isyib7yHYhoA",
        "colab_type": "code",
        "colab": {}
      },
      "source": [
        "#Transform age, sex, goto etc.\n",
        "inputs['age_n'] = le_age.fit_transform(inputs['What\\'s your age?'])\n",
        "inputs['sex_n'] = le_sex.fit_transform(inputs['What is your sex?'])\n",
        "inputs['goto_n'] = le_goto.fit_transform(inputs['Do you go to music concerts?'])"
      ],
      "execution_count": null,
      "outputs": []
    },
    {
      "cell_type": "code",
      "metadata": {
        "id": "zy6HOT5jcGtm",
        "colab_type": "code",
        "colab": {}
      },
      "source": [
        "#Transform far with .astype(str) because transform cannot conver both int and str normally\n",
        "inputs['far_n'] = le_far.fit_transform(inputs['How far do you typically travel to a music concert?'].astype(str))"
      ],
      "execution_count": null,
      "outputs": []
    },
    {
      "cell_type": "markdown",
      "metadata": {
        "id": "BFKiwnZCn_Nj",
        "colab_type": "text"
      },
      "source": [
        "**After processing with LabelEncoder**\n",
        "\n",
        "**Age**\n",
        "\n",
        "0 : Under 16\n",
        "\n",
        "1 : 16-22\n",
        "\n",
        "2 : 23-30\n",
        "\n",
        "3: 30-40\n",
        "\n",
        "4 : 40-50\n",
        "\n",
        "5: 50+\n",
        "\n",
        "**Gender**\n",
        "\n",
        "0 : Female \n",
        "\n",
        "1 : Male\n",
        "\n",
        "**Goto (Do they go to concerts)**\n",
        "\n",
        "0 : No\n",
        "\n",
        "1 : Yes\n",
        "\n",
        "**HowFar (How far do they travel)**\n",
        "\n",
        "0 : < 20 Miles\n",
        "\n",
        "1 : 20 to 100 Miles\n",
        "\n",
        "2 : 100 to 1000 Miles\n",
        "\n",
        "3 : > 1000 Miles\n",
        "\n",
        "**HowMuchPay (How much do they pay)**\n",
        "\n",
        "0 : Less than $100\n",
        "\n",
        "1 : 100-500\n",
        "\n",
        "2 : 500-1000\n",
        "\n",
        "3 : 1000+"
      ]
    },
    {
      "cell_type": "code",
      "metadata": {
        "id": "msVUQRMWcYZC",
        "colab_type": "code",
        "colab": {}
      },
      "source": [
        "inputs.head() #check inputs"
      ],
      "execution_count": null,
      "outputs": []
    },
    {
      "cell_type": "code",
      "metadata": {
        "id": "_Wup4maOczt8",
        "colab_type": "code",
        "colab": {}
      },
      "source": [
        "#Drop the columns that are replicated (only need one column)\n",
        "inputs_n = inputs.drop(['What\\'s your age?', 'What is your sex?', 'Do you go to music concerts?', 'How far do you typically travel to a music concert?'], axis='columns')\n",
        "inputs_n.head() #print head to check data is correctly dropped"
      ],
      "execution_count": null,
      "outputs": []
    },
    {
      "cell_type": "code",
      "metadata": {
        "id": "kDJHbZepdZRv",
        "colab_type": "code",
        "colab": {}
      },
      "source": [
        "#Do labelEncoder for target\n",
        "le_cost = LabelEncoder()\n",
        "target_df = pd.DataFrame(target)\n",
        "target_df['cost_n'] = le_cost.fit_transform(target_df['How much do you typically pay? Please include airfare cost, hotel, taxi, food, etc.'].astype(str))\n",
        "target_df.head()"
      ],
      "execution_count": null,
      "outputs": []
    },
    {
      "cell_type": "code",
      "metadata": {
        "id": "4xktZPtdkUyx",
        "colab_type": "code",
        "colab": {}
      },
      "source": [
        "#Drop column and check data\n",
        "target_n = target_df.drop(['How much do you typically pay? Please include airfare cost, hotel, taxi, food, etc.'], axis='columns')\n",
        "target_n.head()"
      ],
      "execution_count": null,
      "outputs": []
    },
    {
      "cell_type": "markdown",
      "metadata": {
        "id": "1KB2jEZ-olGt",
        "colab_type": "text"
      },
      "source": [
        "***(C) Import and use Decision Tree Classifier from sklearn***"
      ]
    },
    {
      "cell_type": "code",
      "metadata": {
        "id": "nQdZD-5KdcRt",
        "colab_type": "code",
        "colab": {}
      },
      "source": [
        "#Import Decision Tree Classifier from Sklearn\n",
        "from sklearn import tree\n",
        "model = tree.DecisionTreeClassifier()"
      ],
      "execution_count": null,
      "outputs": []
    },
    {
      "cell_type": "code",
      "metadata": {
        "id": "kAc6GEz1dioh",
        "colab_type": "code",
        "colab": {}
      },
      "source": [
        "#Fit the model \n",
        "inputs_n.fillna(inputs_n.mean(), inplace=True) #Use fillna is fill empty spaces\n",
        "model.fit(inputs_n, target_n)"
      ],
      "execution_count": null,
      "outputs": []
    },
    {
      "cell_type": "code",
      "metadata": {
        "id": "WktcoH5jmhU8",
        "colab_type": "code",
        "colab": {}
      },
      "source": [
        "#See Model Accuary\n",
        "model.score(inputs_n, target_n)"
      ],
      "execution_count": null,
      "outputs": []
    },
    {
      "cell_type": "markdown",
      "metadata": {
        "id": "F1NkNVXnoLwB",
        "colab_type": "text"
      },
      "source": [
        "***(D) Test different options for Results***"
      ]
    },
    {
      "cell_type": "markdown",
      "metadata": {
        "id": "USirFx-yxEqE",
        "colab_type": "text"
      },
      "source": [
        "For example, the first model has code \n",
        "\n",
        "*model.predict([[4,0,2,0,1,0]])*\n",
        "\n",
        "4: Age 30-40\n",
        "\n",
        "0: Female\n",
        "\n",
        "2:Former USSR\n",
        "\n",
        "0:Texas \n",
        "\n",
        "1:Go to Concert\n",
        "\n",
        "0:Less than 20 Miles\n",
        "\n",
        "-----------------------------\n",
        "\n",
        "Which returns *array([2])* which means the model predicts the person will have\n",
        "\n",
        "2: 500-1000 Dollars spent"
      ]
    },
    {
      "cell_type": "code",
      "metadata": {
        "id": "sthUgGLSmjPV",
        "colab_type": "code",
        "colab": {}
      },
      "source": [
        "model.predict([[4,0,2,0,1,0]])"
      ],
      "execution_count": null,
      "outputs": []
    },
    {
      "cell_type": "markdown",
      "metadata": {
        "id": "TiVSM75Wx3zu",
        "colab_type": "text"
      },
      "source": [
        "Second Model with 4,1,4,4,0,3"
      ]
    },
    {
      "cell_type": "code",
      "metadata": {
        "id": "_YxlPNC8mndJ",
        "colab_type": "code",
        "colab": {}
      },
      "source": [
        "model.predict([[4,1,4,4,0,3]])"
      ],
      "execution_count": null,
      "outputs": []
    },
    {
      "cell_type": "code",
      "metadata": {
        "id": "nMPx2eMxmqZ0",
        "colab_type": "code",
        "colab": {}
      },
      "source": [
        "model.predict([[3,1,0,0,1,2]])"
      ],
      "execution_count": null,
      "outputs": []
    },
    {
      "cell_type": "code",
      "metadata": {
        "id": "fkBMw2DMnB0i",
        "colab_type": "code",
        "colab": {}
      },
      "source": [
        "model.predict([[0,0,0,4,1,1]])"
      ],
      "execution_count": null,
      "outputs": []
    },
    {
      "cell_type": "code",
      "metadata": {
        "id": "MynHPNnTnGji",
        "colab_type": "code",
        "colab": {}
      },
      "source": [
        "model.predict([[0,1,0,0,1,1]])"
      ],
      "execution_count": null,
      "outputs": []
    },
    {
      "cell_type": "code",
      "metadata": {
        "id": "3NqpI45ynJYl",
        "colab_type": "code",
        "colab": {}
      },
      "source": [
        "model.predict([[4,0,1,0,0,1]])"
      ],
      "execution_count": null,
      "outputs": []
    }
  ]
}